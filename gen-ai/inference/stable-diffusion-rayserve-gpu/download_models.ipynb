{
 "cells": [
  {
   "cell_type": "code",
   "execution_count": 4,
   "metadata": {},
   "outputs": [],
   "source": [
    "!pip install -U diffusers accelerate accelerate awscliv2 --quiet "
   ]
  },
  {
   "cell_type": "code",
   "execution_count": 5,
   "metadata": {},
   "outputs": [],
   "source": [
    "from diffusers import StableDiffusionPipeline\n",
    "import torch\n",
    "\n",
    "# Set the model you want to download\n",
    "model_name = \"stabilityai/stable-diffusion-2\"\n",
    "model_directory = \"./stable-diffusion-2\""
   ]
  },
  {
   "cell_type": "code",
   "execution_count": null,
   "metadata": {},
   "outputs": [],
   "source": [
    "# Save the model to the local directory\n",
    "pipe = StableDiffusionPipeline.from_pretrained(model_name, torch_dtype=torch.float16, cache_dir=model_directory)\n",
    "pipe.save_pretrained(model_directory)"
   ]
  },
  {
   "cell_type": "code",
   "execution_count": 13,
   "metadata": {},
   "outputs": [
    {
     "name": "stdout",
     "output_type": "stream",
     "text": [
      "091550601287\n"
     ]
    }
   ],
   "source": [
    "# Upload the files to Amazon S3 bucket from a local directory using AWS CLI\n",
    "\n",
    "# Get Caller Identity\n",
    "import boto3, json\n",
    "account = boto3.client('sts').get_caller_identity()['Account']\n",
    "print(account)\n"
   ]
  },
  {
   "cell_type": "code",
   "execution_count": null,
   "metadata": {},
   "outputs": [],
   "source": [
    "bucket_name = \"ml-model-storage-{account}\"\n",
    "prefix = \"stable-diffusion-2\"\n",
    "\n",
    "! rm -rf {model_directory}/.locks\n",
    "! rm -rf {model_directory}/models--stabilityai--stable-diffusion-2\n",
    "\n",
    "! aws s3 sync {model_directory} s3://{bucket_name}/{prefix}/ \n",
    "\n"
   ]
  }
 ],
 "metadata": {
  "kernelspec": {
   "display_name": "base",
   "language": "python",
   "name": "python3"
  },
  "language_info": {
   "codemirror_mode": {
    "name": "ipython",
    "version": 3
   },
   "file_extension": ".py",
   "mimetype": "text/x-python",
   "name": "python",
   "nbconvert_exporter": "python",
   "pygments_lexer": "ipython3",
   "version": "3.11.5"
  }
 },
 "nbformat": 4,
 "nbformat_minor": 2
}

{
 "cells": [
  {
   "cell_type": "code",
   "execution_count": null,
   "metadata": {},
   "outputs": [],
   "source": [
    "!pip install -U diffusers accelerate --quiet \n",
    "!pip install accelerate --quiet "
   ]
  },
  {
   "cell_type": "code",
   "execution_count": null,
   "metadata": {},
   "outputs": [],
   "source": [
    "from diffusers import StableDiffusionPipeline\n",
    "import torch\n",
    "\n",
    "# Set the model you want to download\n",
    "model_name = \"stabilityai/stable-diffusion-2\"\n",
    "model_directory = \"./stable-diffusion-2\"\n",
    "\n",
    "# Load the model\n",
    "# pipe = StableDiffusionPipeline.from_pretrained(model_directory, torch_dtype=torch.float16)"
   ]
  },
  {
   "cell_type": "code",
   "execution_count": null,
   "metadata": {},
   "outputs": [],
   "source": [
    "# Save the model to the local directory\n",
    "pipe = StableDiffusionPipeline.from_pretrained(model_name, torch_dtype=torch.float16, cache_dir=model_directory)\n",
    "pipe.save_pretrained(model_directory)"
   ]
  },
  {
   "cell_type": "code",
   "execution_count": null,
   "metadata": {},
   "outputs": [],
   "source": [
    "# Upload the files to Amazon S3 bucket from a local directory using AWS CLI\n",
    "\n",
    "bucket_name = \"ml-model-storage-091550601287\"\n",
    "prefix = \"stable-diffusion-2\"\n",
    "\n",
    "! rm -rf ./stable-diffusion-2/.locks\n",
    "! rm -rf ./stable-diffusion-2/models--stabilityai--stable-diffusion-2\n",
    "\n",
    "! aws s3 cp --recursive {model_directory} s3://{bucket_name}/{prefix}/ \n",
    "\n"
   ]
  }
 ],
 "metadata": {
  "kernelspec": {
   "display_name": "base",
   "language": "python",
   "name": "python3"
  },
  "language_info": {
   "codemirror_mode": {
    "name": "ipython",
    "version": 3
   },
   "file_extension": ".py",
   "mimetype": "text/x-python",
   "name": "python",
   "nbconvert_exporter": "python",
   "pygments_lexer": "ipython3",
   "version": "3.11.5"
  }
 },
 "nbformat": 4,
 "nbformat_minor": 2
}

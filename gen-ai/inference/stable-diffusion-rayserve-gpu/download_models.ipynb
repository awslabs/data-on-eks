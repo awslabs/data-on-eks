{
 "cells": [
  {
   "cell_type": "code",
   "execution_count": 1,
   "metadata": {},
   "outputs": [],
   "source": [
    "!pip install -U diffusers accelerate accelerate awscliv2 --quiet "
   ]
  },
  {
   "cell_type": "code",
   "execution_count": 2,
   "metadata": {},
   "outputs": [],
   "source": [
    "from diffusers import StableDiffusionPipeline\n",
    "import torch\n",
    "\n",
    "# Set the model you want to download\n",
    "model_name = \"stabilityai/stable-diffusion-2\"\n",
    "model_directory = \"./stable-diffusion-2\""
   ]
  },
  {
   "cell_type": "code",
   "execution_count": 3,
   "metadata": {},
   "outputs": [
    {
     "data": {
      "application/vnd.jupyter.widget-view+json": {
       "model_id": "44675e78b75141f6b0a3b4d3f0ff01e9",
       "version_major": 2,
       "version_minor": 0
      },
      "text/plain": [
       "model_index.json:   0%|          | 0.00/537 [00:00<?, ?B/s]"
      ]
     },
     "metadata": {},
     "output_type": "display_data"
    },
    {
     "data": {
      "application/vnd.jupyter.widget-view+json": {
       "model_id": "84119556f37f4b82a90b651b9148ee5f",
       "version_major": 2,
       "version_minor": 0
      },
      "text/plain": [
       "Fetching 13 files:   0%|          | 0/13 [00:00<?, ?it/s]"
      ]
     },
     "metadata": {},
     "output_type": "display_data"
    },
    {
     "data": {
      "application/vnd.jupyter.widget-view+json": {
       "model_id": "bfef82c5ec934d1cae086c882c5d2fdd",
       "version_major": 2,
       "version_minor": 0
      },
      "text/plain": [
       "model.safetensors:   0%|          | 0.00/1.36G [00:00<?, ?B/s]"
      ]
     },
     "metadata": {},
     "output_type": "display_data"
    },
    {
     "data": {
      "application/vnd.jupyter.widget-view+json": {
       "model_id": "f0ce4df17f9e4ad880433c4e4e72643b",
       "version_major": 2,
       "version_minor": 0
      },
      "text/plain": [
       "tokenizer/merges.txt:   0%|          | 0.00/525k [00:00<?, ?B/s]"
      ]
     },
     "metadata": {},
     "output_type": "display_data"
    },
    {
     "data": {
      "application/vnd.jupyter.widget-view+json": {
       "model_id": "ff94aae70aca40549f09b4986e957f2a",
       "version_major": 2,
       "version_minor": 0
      },
      "text/plain": [
       "(…)ature_extractor/preprocessor_config.json:   0%|          | 0.00/342 [00:00<?, ?B/s]"
      ]
     },
     "metadata": {},
     "output_type": "display_data"
    },
    {
     "data": {
      "application/vnd.jupyter.widget-view+json": {
       "model_id": "aaed362ae4ec4d68a0b95dceed0aa8ca",
       "version_major": 2,
       "version_minor": 0
      },
      "text/plain": [
       "text_encoder/config.json:   0%|          | 0.00/633 [00:00<?, ?B/s]"
      ]
     },
     "metadata": {},
     "output_type": "display_data"
    },
    {
     "data": {
      "application/vnd.jupyter.widget-view+json": {
       "model_id": "6fdad2c5addf49edb205b085e311463e",
       "version_major": 2,
       "version_minor": 0
      },
      "text/plain": [
       "tokenizer/special_tokens_map.json:   0%|          | 0.00/460 [00:00<?, ?B/s]"
      ]
     },
     "metadata": {},
     "output_type": "display_data"
    },
    {
     "data": {
      "application/vnd.jupyter.widget-view+json": {
       "model_id": "3ba0c94f37914ba88548bbdbdc027525",
       "version_major": 2,
       "version_minor": 0
      },
      "text/plain": [
       "scheduler/scheduler_config.json:   0%|          | 0.00/345 [00:00<?, ?B/s]"
      ]
     },
     "metadata": {},
     "output_type": "display_data"
    },
    {
     "data": {
      "application/vnd.jupyter.widget-view+json": {
       "model_id": "90d1b9c510f0472f9b6e0fec49f85fc2",
       "version_major": 2,
       "version_minor": 0
      },
      "text/plain": [
       "tokenizer/vocab.json:   0%|          | 0.00/1.06M [00:00<?, ?B/s]"
      ]
     },
     "metadata": {},
     "output_type": "display_data"
    },
    {
     "data": {
      "application/vnd.jupyter.widget-view+json": {
       "model_id": "446ce915ce2947fd98817a300bdf9ce4",
       "version_major": 2,
       "version_minor": 0
      },
      "text/plain": [
       "tokenizer/tokenizer_config.json:   0%|          | 0.00/824 [00:00<?, ?B/s]"
      ]
     },
     "metadata": {},
     "output_type": "display_data"
    },
    {
     "data": {
      "application/vnd.jupyter.widget-view+json": {
       "model_id": "31b25715c1a94ea2882a682ef06b4fe9",
       "version_major": 2,
       "version_minor": 0
      },
      "text/plain": [
       "diffusion_pytorch_model.safetensors:   0%|          | 0.00/3.46G [00:00<?, ?B/s]"
      ]
     },
     "metadata": {},
     "output_type": "display_data"
    },
    {
     "data": {
      "application/vnd.jupyter.widget-view+json": {
       "model_id": "bc1492b5a973441bace790b3a1e77f07",
       "version_major": 2,
       "version_minor": 0
      },
      "text/plain": [
       "diffusion_pytorch_model.safetensors:   0%|          | 0.00/335M [00:00<?, ?B/s]"
      ]
     },
     "metadata": {},
     "output_type": "display_data"
    },
    {
     "data": {
      "application/vnd.jupyter.widget-view+json": {
       "model_id": "3db5ededba394f41b783635fdfd657cd",
       "version_major": 2,
       "version_minor": 0
      },
      "text/plain": [
       "unet/config.json:   0%|          | 0.00/909 [00:00<?, ?B/s]"
      ]
     },
     "metadata": {},
     "output_type": "display_data"
    },
    {
     "data": {
      "application/vnd.jupyter.widget-view+json": {
       "model_id": "a08cfc2bd4d14834b3ad1fde2043d330",
       "version_major": 2,
       "version_minor": 0
      },
      "text/plain": [
       "vae/config.json:   0%|          | 0.00/611 [00:00<?, ?B/s]"
      ]
     },
     "metadata": {},
     "output_type": "display_data"
    },
    {
     "data": {
      "application/vnd.jupyter.widget-view+json": {
       "model_id": "140b687aff6e4378b80c80da39f7c33f",
       "version_major": 2,
       "version_minor": 0
      },
      "text/plain": [
       "Loading pipeline components...:   0%|          | 0/6 [00:00<?, ?it/s]"
      ]
     },
     "metadata": {},
     "output_type": "display_data"
    }
   ],
   "source": [
    "# Save the model to the local directory\n",
    "pipe = StableDiffusionPipeline.from_pretrained(model_name, torch_dtype=torch.float16, cache_dir=model_directory)\n",
    "pipe.save_pretrained(model_directory)"
   ]
  },
  {
   "cell_type": "code",
   "execution_count": 13,
   "metadata": {},
   "outputs": [
    {
     "name": "stdout",
     "output_type": "stream",
     "text": [
      "091550601287\n"
     ]
    }
   ],
   "source": [
    "# Upload the files to Amazon S3 bucket from a local directory using AWS CLI\n",
    "\n",
    "# Get Caller Identity\n",
    "import boto3, json\n",
    "account = boto3.client('sts').get_caller_identity()['Account']\n",
    "print(account)\n"
   ]
  },
  {
   "cell_type": "code",
   "execution_count": 4,
   "metadata": {},
   "outputs": [],
   "source": [
    "bucket_name = \"model-storage-20240820044102407400000001\"\n",
    "bucket_name # \"ml-model-storage-{account}\"\n",
    "prefix = \"stable-diffusion-2\" \n",
    "\n",
    "! rm -rf {model_directory}/.locks\n",
    "! rm -rf {model_directory}/models--stabilityai--stable-diffusion-2\n",
    "\n"
   ]
  },
  {
   "cell_type": "code",
   "execution_count": 5,
   "metadata": {},
   "outputs": [
    {
     "name": "stdout",
     "output_type": "stream",
     "text": [
      "upload: stable-diffusion-2/model_index.json to s3://model-storage-20240820044102407400000001/stable-diffusion-2/model_index.json\n",
      "upload: stable-diffusion-2/scheduler/scheduler_config.json to s3://model-storage-20240820044102407400000001/stable-diffusion-2/scheduler/scheduler_config.json\n",
      "upload: stable-diffusion-2/feature_extractor/preprocessor_config.json to s3://model-storage-20240820044102407400000001/stable-diffusion-2/feature_extractor/preprocessor_config.json\n",
      "upload: stable-diffusion-2/text_encoder/config.json to s3://model-storage-20240820044102407400000001/stable-diffusion-2/text_encoder/config.json\n",
      "upload: stable-diffusion-2/tokenizer/special_tokens_map.json to s3://model-storage-20240820044102407400000001/stable-diffusion-2/tokenizer/special_tokens_map.json\n",
      "upload: stable-diffusion-2/tokenizer/tokenizer_config.json to s3://model-storage-20240820044102407400000001/stable-diffusion-2/tokenizer/tokenizer_config.json\n",
      "upload: stable-diffusion-2/unet/config.json to s3://model-storage-20240820044102407400000001/stable-diffusion-2/unet/config.json\n",
      "upload: stable-diffusion-2/tokenizer/merges.txt to s3://model-storage-20240820044102407400000001/stable-diffusion-2/tokenizer/merges.txt\n",
      "upload: stable-diffusion-2/tokenizer/vocab.json to s3://model-storage-20240820044102407400000001/stable-diffusion-2/tokenizer/vocab.json\n",
      "upload: stable-diffusion-2/text_encoder/model.safetensors to s3://model-storage-20240820044102407400000001/stable-diffusion-2/text_encoder/model.safetensors\n",
      "upload: stable-diffusion-2/vae/config.json to s3://model-storage-20240820044102407400000001/stable-diffusion-2/vae/config.json\n",
      "upload: stable-diffusion-2/unet/diffusion_pytorch_model.safetensors to s3://model-storage-20240820044102407400000001/stable-diffusion-2/unet/diffusion_pytorch_model.safetensors\n",
      "upload: stable-diffusion-2/vae/diffusion_pytorch_model.safetensors to s3://model-storage-20240820044102407400000001/stable-diffusion-2/vae/diffusion_pytorch_model.safetensors\n"
     ]
    }
   ],
   "source": [
    "! aws s3 sync {model_directory} s3://{bucket_name}/{prefix}/ "
   ]
  }
 ],
 "metadata": {
  "kernelspec": {
   "display_name": "base",
   "language": "python",
   "name": "python3"
  },
  "language_info": {
   "codemirror_mode": {
    "name": "ipython",
    "version": 3
   },
   "file_extension": ".py",
   "mimetype": "text/x-python",
   "name": "python",
   "nbconvert_exporter": "python",
   "pygments_lexer": "ipython3",
   "version": "3.11.5"
  }
 },
 "nbformat": 4,
 "nbformat_minor": 2
}

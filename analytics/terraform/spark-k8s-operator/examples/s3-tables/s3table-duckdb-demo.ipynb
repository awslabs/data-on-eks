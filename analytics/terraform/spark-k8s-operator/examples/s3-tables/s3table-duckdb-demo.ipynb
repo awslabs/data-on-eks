{
 "cells": [
  {
   "cell_type": "markdown",
   "id": "607dd579-22c7-4d1f-bdef-5dd518cac38a",
   "metadata": {},
   "source": [
    "# Spark and S3 Buckets integration demo\n",
    "\n",
    "**In this demo, we will use a public dataset from libraries in Seattle to see how easy S3 Tables can be used in Spark applications.**\n",
    "\n",
    "# Spark configuration and namespace configuration.\n",
    "\n",
    "\n",
    "**First. let's create and configure a Spark session object. Then create a S3 Tables namespace under the table.**\n"
   ]
  },
  {
   "cell_type": "code",
   "execution_count": null,
   "id": "8f9e8e20-bb76-4332-9b43-35add77439c4",
   "metadata": {},
   "outputs": [],
   "source": [
    "import logging\n",
    "import sys\n",
    "import os\n",
    "from datetime import datetime\n",
    "from decimal import Decimal\n",
    "from IPython.display import display, HTML\n",
    "\n",
    "from pyspark.sql import SparkSession\n",
    "from pyspark.sql.types import StructType, StructField, StringType, IntegerType, FloatType, DecimalType, LongType\n",
    "\n",
    "\n",
    "# Logging configuration\n",
    "formatter = logging.Formatter('[%(asctime)s] %(levelname)s @ line %(lineno)d: %(message)s')\n",
    "handler = logging.StreamHandler(sys.stdout)\n",
    "handler.setLevel(logging.INFO)\n",
    "handler.setFormatter(formatter)\n",
    "logger = logging.getLogger()\n",
    "logger.setLevel(logging.INFO)\n",
    "logger.addHandler(handler)\n",
    "color = \"------------------------- \\n\\x1b[94;1m\"\n",
    "\n",
    "# Application-specific variables\n",
    "dt_string = datetime.now().strftime(\"%Y_%m_%d_%H_%M_%S\")\n",
    "AppName = \"Demo\"\n",
    "\n",
    "input_csv_path = \"s3a://<DATA_SET>/library-checkout/\"\n",
    "s3table_arn = \"arn:aws:s3tables:us-west-2:<ACC_NUM>:bucket/demo\"\n",
    "\n",
    "spark = (SparkSession\n",
    "    .builder\n",
    "    .appName(f\"{AppName}_{dt_string}\")\n",
    "    # Spark S3 Tables library configurations.\n",
    "    .config(\"spark.sql.extensions\", \"org.apache.iceberg.spark.extensions.IcebergSparkSessionExtensions\")\n",
    "    .config(\"spark.sql.catalog.s3tablesbucket\", \"org.apache.iceberg.spark.SparkCatalog\")\n",
    "    .config(\"spark.sql.catalog.s3tablesbucket.catalog-impl\", \"software.amazon.s3tables.iceberg.S3TablesCatalog\")\n",
    "    .config(\"spark.sql.catalog.s3tablesbucket.warehouse\", s3table_arn)\n",
    "    .config('spark.hadoop.fs.s3.impl', \"org.apache.hadoop.fs.s3a.S3AFileSystem\")\n",
    "    .config(\"spark.sql.defaultCatalog\", \"s3tablesbucket\")\n",
    "    .config(\"spark.hadoop.fs.s3a.connection.timeout\", \"1200000\") \\\n",
    "    .config(\"spark.hadoop.fs.s3a.path.style.access\", \"true\") \\\n",
    "    .config(\"spark.hadoop.fs.s3a.connection.maximum\", \"200\") \\\n",
    "    .config(\"spark.hadoop.fs.s3a.fast.upload\", \"true\") \\\n",
    "    .config(\"spark.hadoop.fs.s3a.readahead.range\", \"256K\") \\\n",
    "    .config(\"spark.hadoop.fs.s3a.input.fadvise\", \"random\") \\\n",
    "    .config(\"spark.hadoop.fs.s3a.aws.credentials.provider.mapping\", \"com.amazonaws.auth.WebIdentityTokenCredentialsProvider=software.amazon.awssdk.auth.credentials.WebIdentityTokenFileCredentialsProvider\") \\\n",
    "    .config(\"spark.hadoop.fs.s3a.aws.credentials.provider\", \"software.amazon.awssdk.auth.credentials.WebIdentityTokenFileCredentialsProvider\")\n",
    "    .getOrCreate())\n",
    "\n",
    "namespace = \"demo\"\n",
    "table_name = \"demo\"\n",
    "full_table_name = f\"s3tablesbucket.{namespace}.{table_name}\"\n"
   ]
  },
  {
   "cell_type": "code",
   "execution_count": 5,
   "id": "9b7ed4a5-af9b-4897-97ed-7598022374f8",
   "metadata": {},
   "outputs": [
    {
     "data": {
      "text/html": [
       "<div>\n",
       "<style scoped>\n",
       "    .dataframe tbody tr th:only-of-type {\n",
       "        vertical-align: middle;\n",
       "    }\n",
       "\n",
       "    .dataframe tbody tr th {\n",
       "        vertical-align: top;\n",
       "    }\n",
       "\n",
       "    .dataframe thead th {\n",
       "        text-align: right;\n",
       "    }\n",
       "</style>\n",
       "<table border=\"1\" class=\"dataframe\">\n",
       "  <thead>\n",
       "    <tr style=\"text-align: right;\">\n",
       "      <th></th>\n",
       "      <th>namespace</th>\n",
       "    </tr>\n",
       "  </thead>\n",
       "  <tbody>\n",
       "    <tr>\n",
       "      <th>0</th>\n",
       "      <td>demo</td>\n",
       "    </tr>\n",
       "  </tbody>\n",
       "</table>\n",
       "</div>"
      ],
      "text/plain": [
       "  namespace\n",
       "0      demo"
      ]
     },
     "metadata": {},
     "output_type": "display_data"
    }
   ],
   "source": [
    "# Create a namespace\n",
    "spark.sql(f\"CREATE NAMESPACE IF NOT EXISTS s3tablesbucket.{namespace}\")\n",
    "results = spark.sql(\"SHOW NAMESPACES;\")\n",
    "display(results.toPandas())\n"
   ]
  },
  {
   "cell_type": "markdown",
   "id": "13949daa-a17d-4ca7-8263-9062752a82e1",
   "metadata": {},
   "source": [
    "# Read CSV data from a S3 Bucket\n",
    "\n",
    "Our example data files store checkout data from [Seattle area libraries](https://data.seattle.gov/Community-and-Culture/Checkouts-by-Title/tmmm-ytt6/about_data) in 2024. Data includes information such as, how many times a book was checked out, when it was checked out, and media type (books, e-books, etc). \n",
    "For this demo purposes, they are stored in a S3 Bucket in CSV format. Let's read data from them.\n"
   ]
  },
  {
   "cell_type": "code",
   "execution_count": 13,
   "id": "f30bba56-792f-4972-aa33-ec44368d2197",
   "metadata": {},
   "outputs": [
    {
     "data": {
      "text/html": [
       "<div>\n",
       "<style scoped>\n",
       "    .dataframe tbody tr th:only-of-type {\n",
       "        vertical-align: middle;\n",
       "    }\n",
       "\n",
       "    .dataframe tbody tr th {\n",
       "        vertical-align: top;\n",
       "    }\n",
       "\n",
       "    .dataframe thead th {\n",
       "        text-align: right;\n",
       "    }\n",
       "</style>\n",
       "<table border=\"1\" class=\"dataframe\">\n",
       "  <thead>\n",
       "    <tr style=\"text-align: right;\">\n",
       "      <th></th>\n",
       "      <th>usageclass</th>\n",
       "      <th>checkouttype</th>\n",
       "      <th>materialtype</th>\n",
       "      <th>checkoutyear</th>\n",
       "      <th>checkoutmonth</th>\n",
       "      <th>checkouts</th>\n",
       "      <th>title</th>\n",
       "      <th>isbn</th>\n",
       "      <th>creator</th>\n",
       "      <th>subjects</th>\n",
       "      <th>publisher</th>\n",
       "      <th>publicationyear</th>\n",
       "    </tr>\n",
       "  </thead>\n",
       "  <tbody>\n",
       "    <tr>\n",
       "      <th>0</th>\n",
       "      <td>Digital</td>\n",
       "      <td>OverDrive</td>\n",
       "      <td>AUDIOBOOK</td>\n",
       "      <td>2023</td>\n",
       "      <td>3</td>\n",
       "      <td>1</td>\n",
       "      <td>The Age of Doubt (unabridged)</td>\n",
       "      <td>9781481590273</td>\n",
       "      <td>Andrea Camilleri</td>\n",
       "      <td>Fiction, Mystery</td>\n",
       "      <td>Blackstone Audio, Inc.</td>\n",
       "      <td>2012</td>\n",
       "    </tr>\n",
       "    <tr>\n",
       "      <th>1</th>\n",
       "      <td>Digital</td>\n",
       "      <td>OverDrive</td>\n",
       "      <td>AUDIOBOOK</td>\n",
       "      <td>2023</td>\n",
       "      <td>3</td>\n",
       "      <td>1</td>\n",
       "      <td>Boys I Know (unabridged)</td>\n",
       "      <td>9780593558829</td>\n",
       "      <td>Anna Gracia</td>\n",
       "      <td>Romance, Young Adult Fiction, Young Adult Lite...</td>\n",
       "      <td>Books on Tape</td>\n",
       "      <td>2022</td>\n",
       "    </tr>\n",
       "  </tbody>\n",
       "</table>\n",
       "</div>"
      ],
      "text/plain": [
       "  usageclass checkouttype materialtype  checkoutyear  checkoutmonth  \\\n",
       "0    Digital    OverDrive    AUDIOBOOK          2023              3   \n",
       "1    Digital    OverDrive    AUDIOBOOK          2023              3   \n",
       "\n",
       "   checkouts                          title           isbn           creator  \\\n",
       "0          1  The Age of Doubt (unabridged)  9781481590273  Andrea Camilleri   \n",
       "1          1       Boys I Know (unabridged)  9780593558829       Anna Gracia   \n",
       "\n",
       "                                            subjects               publisher  \\\n",
       "0                                   Fiction, Mystery  Blackstone Audio, Inc.   \n",
       "1  Romance, Young Adult Fiction, Young Adult Lite...           Books on Tape   \n",
       "\n",
       "  publicationyear  \n",
       "0            2012  \n",
       "1            2022  "
      ]
     },
     "execution_count": 13,
     "metadata": {},
     "output_type": "execute_result"
    }
   ],
   "source": [
    "library_checkout = spark.read.options(mode='FAILFAST', multiLine=True, escape='\"').csv(input_csv_path, header=True, inferSchema=True)\n",
    "library_checkout.createOrReplaceTempView(\"checkout_data\")\n",
    "spark.sql(\"SELECT * FROM checkout_data LIMIT 2;\").toPandas()"
   ]
  },
  {
   "cell_type": "markdown",
   "id": "e6982a72-97fc-443e-a1dd-a413f4e2d178",
   "metadata": {},
   "source": [
    "# A quick peek \n",
    "\n",
    "Let's take a quick look at total usage data by Media Type like books, e-book, etc."
   ]
  },
  {
   "cell_type": "code",
   "execution_count": 21,
   "id": "b2f03232-01c5-4b0c-9c23-abc59ec62c1a",
   "metadata": {},
   "outputs": [
    {
     "data": {
      "image/png": "[encoded data removed]",
      "text/plain": [
       "<Figure size 640x480 with 1 Axes>"
      ]
     },
     "metadata": {},
     "output_type": "display_data"
    }
   ],
   "source": [
    "import seaborn as sns\n",
    "import pandas as pd\n",
    "import matplotlib.pyplot as plt\n",
    "from matplotlib.dates import YearLocator, DateFormatter\n",
    "\n",
    "\n",
    "total_query = \"\"\"SELECT \n",
    "    MaterialType,\n",
    "    COUNT(*) as total_records,\n",
    "    SUM(Checkouts) as total_checkouts\n",
    "FROM checkout_data\n",
    "GROUP BY MaterialType\n",
    "ORDER BY total_checkouts DESC;\"\"\"\n",
    "\n",
    "total_result = spark.sql(total_query).toPandas().nlargest(5, \"total_checkouts\")\n",
    "plt.pie(total_result['total_checkouts'], \n",
    "        labels=total_result['MaterialType'],\n",
    "        autopct='%1.1f%%',\n",
    "        colors=sns.color_palette('pastel'),\n",
    "        explode=[0.05] * 5\n",
    "       )\n",
    "plt.axis('equal')\n",
    "plt.title('Distribution of Checkouts by Media Type', pad=20, size=14)\n",
    "plt.show()\n"
   ]
  },
  {
   "cell_type": "markdown",
   "id": "71b56487-c7e8-481e-8f13-734e1156969f",
   "metadata": {},
   "source": [
    "# Store in S3 Tables\n",
    "\n",
    "Data looks ok. Let's store it in S3 Tables.\n",
    "\n",
    "We can write to S3 Tables just like you would to a normal S3 Bucket. E.g. `input_data.writeTo(\"catalog.db.table\").using(\"Iceberg\").Create()`\n",
    "\n",
    "You can get information about the table with standard queries supported by iceberg. E.g. `SELECT * FROM s3tablesbucket.demo.demo.files`\n"
   ]
  },
  {
   "cell_type": "code",
   "execution_count": 14,
   "id": "6ad24755-dda6-4ac9-b22c-a3153dc8c335",
   "metadata": {},
   "outputs": [
    {
     "name": "stdout",
     "output_type": "stream",
     "text": [
      "[2025-02-28 19:24:08,839] INFO @ line 1: Writing data to S3 Tables: s3tablesbucket.demo.demo\n",
      "[2025-02-28 19:24:08,839] INFO @ line 1: Writing data to S3 Tables: s3tablesbucket.demo.demo\n",
      "[2025-02-28 19:24:28,794] INFO @ line 3: Successfully written data to S3 Tables\n",
      "[2025-02-28 19:24:28,794] INFO @ line 3: Successfully written data to S3 Tables\n"
     ]
    },
    {
     "data": {
      "text/html": [
       "<h3 style=\"color: #FFB26F\"> Iceberg Files</h3>"
      ],
      "text/plain": [
       "<IPython.core.display.HTML object>"
      ]
     },
     "metadata": {},
     "output_type": "display_data"
    },
    {
     "data": {
      "text/html": [
       "<div>\n",
       "<style scoped>\n",
       "    .dataframe tbody tr th:only-of-type {\n",
       "        vertical-align: middle;\n",
       "    }\n",
       "\n",
       "    .dataframe tbody tr th {\n",
       "        vertical-align: top;\n",
       "    }\n",
       "\n",
       "    .dataframe thead th {\n",
       "        text-align: right;\n",
       "    }\n",
       "</style>\n",
       "<table border=\"1\" class=\"dataframe\">\n",
       "  <thead>\n",
       "    <tr style=\"text-align: right;\">\n",
       "      <th></th>\n",
       "      <th>content</th>\n",
       "      <th>file_path</th>\n",
       "      <th>file_format</th>\n",
       "      <th>spec_id</th>\n",
       "      <th>record_count</th>\n",
       "      <th>file_size_in_bytes</th>\n",
       "      <th>column_sizes</th>\n",
       "      <th>value_counts</th>\n",
       "      <th>null_value_counts</th>\n",
       "      <th>nan_value_counts</th>\n",
       "      <th>lower_bounds</th>\n",
       "      <th>upper_bounds</th>\n",
       "      <th>key_metadata</th>\n",
       "      <th>split_offsets</th>\n",
       "      <th>equality_ids</th>\n",
       "      <th>sort_order_id</th>\n",
       "      <th>readable_metrics</th>\n",
       "    </tr>\n",
       "  </thead>\n",
       "  <tbody>\n",
       "    <tr>\n",
       "      <th>0</th>\n",
       "      <td>0</td>\n",
       "      <td>s3://415f4796-36de-4868-cdf7h3rwcg77cdw99bnsnw...</td>\n",
       "      <td>PARQUET</td>\n",
       "      <td>0</td>\n",
       "      <td>2676026</td>\n",
       "      <td>179205072</td>\n",
       "      <td>{1: 349737, 2: 349739, 3: 991700, 4: 6228, 5: ...</td>\n",
       "      <td>{1: 2676026, 2: 2676026, 3: 2676026, 4: 267602...</td>\n",
       "      <td>{1: 0, 2: 0, 3: 0, 4: 0, 5: 0, 6: 0, 7: 0, 8: ...</td>\n",
       "      <td>{}</td>\n",
       "      <td>{1: [68, 105, 103, 105, 116, 97, 108], 2: [72,...</td>\n",
       "      <td>{1: [80, 104, 121, 115, 105, 99, 97, 108], 2: ...</td>\n",
       "      <td>None</td>\n",
       "      <td>[4, 134112842]</td>\n",
       "      <td>None</td>\n",
       "      <td>0</td>\n",
       "      <td>((7872, 2676026, 0, None, 1, 12), (1366995, 26...</td>\n",
       "    </tr>\n",
       "  </tbody>\n",
       "</table>\n",
       "</div>"
      ],
      "text/plain": [
       "   content                                          file_path file_format  \\\n",
       "0        0  s3://415f4796-36de-4868-cdf7h3rwcg77cdw99bnsnw...     PARQUET   \n",
       "\n",
       "   spec_id  record_count  file_size_in_bytes  \\\n",
       "0        0       2676026           179205072   \n",
       "\n",
       "                                        column_sizes  \\\n",
       "0  {1: 349737, 2: 349739, 3: 991700, 4: 6228, 5: ...   \n",
       "\n",
       "                                        value_counts  \\\n",
       "0  {1: 2676026, 2: 2676026, 3: 2676026, 4: 267602...   \n",
       "\n",
       "                                   null_value_counts nan_value_counts  \\\n",
       "0  {1: 0, 2: 0, 3: 0, 4: 0, 5: 0, 6: 0, 7: 0, 8: ...               {}   \n",
       "\n",
       "                                        lower_bounds  \\\n",
       "0  {1: [68, 105, 103, 105, 116, 97, 108], 2: [72,...   \n",
       "\n",
       "                                        upper_bounds key_metadata  \\\n",
       "0  {1: [80, 104, 121, 115, 105, 99, 97, 108], 2: ...         None   \n",
       "\n",
       "    split_offsets equality_ids  sort_order_id  \\\n",
       "0  [4, 134112842]         None              0   \n",
       "\n",
       "                                    readable_metrics  \n",
       "0  ((7872, 2676026, 0, None, 1, 12), (1366995, 26...  "
      ]
     },
     "metadata": {},
     "output_type": "display_data"
    },
    {
     "data": {
      "text/html": [
       "<h3 style=\"color: #FFB26F\"> Iceberg History</h3>"
      ],
      "text/plain": [
       "<IPython.core.display.HTML object>"
      ]
     },
     "metadata": {},
     "output_type": "display_data"
    },
    {
     "data": {
      "text/html": [
       "<div>\n",
       "<style scoped>\n",
       "    .dataframe tbody tr th:only-of-type {\n",
       "        vertical-align: middle;\n",
       "    }\n",
       "\n",
       "    .dataframe tbody tr th {\n",
       "        vertical-align: top;\n",
       "    }\n",
       "\n",
       "    .dataframe thead th {\n",
       "        text-align: right;\n",
       "    }\n",
       "</style>\n",
       "<table border=\"1\" class=\"dataframe\">\n",
       "  <thead>\n",
       "    <tr style=\"text-align: right;\">\n",
       "      <th></th>\n",
       "      <th>made_current_at</th>\n",
       "      <th>snapshot_id</th>\n",
       "      <th>parent_id</th>\n",
       "      <th>is_current_ancestor</th>\n",
       "    </tr>\n",
       "  </thead>\n",
       "  <tbody>\n",
       "    <tr>\n",
       "      <th>0</th>\n",
       "      <td>2025-02-28 19:24:28.368</td>\n",
       "      <td>1121241211332417717</td>\n",
       "      <td>NaN</td>\n",
       "      <td>True</td>\n",
       "    </tr>\n",
       "  </tbody>\n",
       "</table>\n",
       "</div>"
      ],
      "text/plain": [
       "          made_current_at          snapshot_id  parent_id  is_current_ancestor\n",
       "0 2025-02-28 19:24:28.368  1121241211332417717        NaN                 True"
      ]
     },
     "metadata": {},
     "output_type": "display_data"
    },
    {
     "data": {
      "text/html": [
       "<h3 style=\"color: #FFB26F\"> Iceberg Snapshots</h3>"
      ],
      "text/plain": [
       "<IPython.core.display.HTML object>"
      ]
     },
     "metadata": {},
     "output_type": "display_data"
    },
    {
     "data": {
      "text/html": [
       "<div>\n",
       "<style scoped>\n",
       "    .dataframe tbody tr th:only-of-type {\n",
       "        vertical-align: middle;\n",
       "    }\n",
       "\n",
       "    .dataframe tbody tr th {\n",
       "        vertical-align: top;\n",
       "    }\n",
       "\n",
       "    .dataframe thead th {\n",
       "        text-align: right;\n",
       "    }\n",
       "</style>\n",
       "<table border=\"1\" class=\"dataframe\">\n",
       "  <thead>\n",
       "    <tr style=\"text-align: right;\">\n",
       "      <th></th>\n",
       "      <th>committed_at</th>\n",
       "      <th>snapshot_id</th>\n",
       "      <th>parent_id</th>\n",
       "      <th>operation</th>\n",
       "      <th>manifest_list</th>\n",
       "      <th>summary</th>\n",
       "    </tr>\n",
       "  </thead>\n",
       "  <tbody>\n",
       "    <tr>\n",
       "      <th>0</th>\n",
       "      <td>2025-02-28 19:24:28.368</td>\n",
       "      <td>1121241211332417717</td>\n",
       "      <td>NaN</td>\n",
       "      <td>append</td>\n",
       "      <td>s3://415f4796-36de-4868-cdf7h3rwcg77cdw99bnsnw...</td>\n",
       "      <td>{'engine-version': '3.5.3', 'added-data-files'...</td>\n",
       "    </tr>\n",
       "  </tbody>\n",
       "</table>\n",
       "</div>"
      ],
      "text/plain": [
       "             committed_at          snapshot_id  parent_id operation  \\\n",
       "0 2025-02-28 19:24:28.368  1121241211332417717        NaN    append   \n",
       "\n",
       "                                       manifest_list  \\\n",
       "0  s3://415f4796-36de-4868-cdf7h3rwcg77cdw99bnsnw...   \n",
       "\n",
       "                                             summary  \n",
       "0  {'engine-version': '3.5.3', 'added-data-files'...  "
      ]
     },
     "metadata": {},
     "output_type": "display_data"
    }
   ],
   "source": [
    "logger.info(f\"Writing data to S3 Tables: {full_table_name}\")\n",
    "library_checkout.writeTo(full_table_name).using(\"Iceberg\").createOrReplace()\n",
    "logger.info(f\"Successfully written data to S3 Tables\")\n",
    "\n",
    "def display_with_header(content, header, level=1):\n",
    "    header_html = f'<h{level} style=\"color: #FFB26F\"> {header}</h{level}>'\n",
    "    display(HTML(header_html))\n",
    "    display(content)\n",
    "\n",
    "display_with_header(spark.sql(\"SELECT * FROM s3tablesbucket.demo.demo.files LIMIT 1;\").toPandas(), \"Iceberg Files\", 3)\n",
    "display_with_header(spark.sql(\"SELECT * FROM s3tablesbucket.demo.demo.history LIMIT 1;\").toPandas(), \"Iceberg History\", 3)\n",
    "display_with_header(spark.sql(\"SELECT * FROM s3tablesbucket.demo.demo.snapshots LIMIT 1;\").toPandas(), \"Iceberg Snapshots\", 3)\n"
   ]
  },
  {
   "cell_type": "markdown",
   "id": "4b10540b-97d1-4dbf-a2d7-b3af0cfabce0",
   "metadata": {},
   "source": [
    "# Read back from S3 Table\n",
    "\n",
    "Let's verify we can read data back from S3 Tables using DuckDB.\n"
   ]
  },
  {
   "cell_type": "code",
   "execution_count": 3,
   "id": "96ae12a8-df3e-4073-b195-996a338ff604",
   "metadata": {},
   "outputs": [
    {
     "name": "stdout",
     "output_type": "stream",
     "text": [
      "[2025-02-28 18:58:38,383] INFO @ line 161: NumExpr defaulting to 16 threads.\n"
     ]
    },
    {
     "data": {
      "application/vnd.jupyter.widget-view+json": {
       "model_id": "e708114b45ec49e59d7ec7ee66ec1e5a",
       "version_major": 2,
       "version_minor": 0
      },
      "text/plain": [
       "FloatProgress(value=0.0, layout=Layout(width='auto'), style=ProgressStyle(bar_color='black'))"
      ]
     },
     "metadata": {},
     "output_type": "display_data"
    },
    {
     "data": {
      "image/png": "[encoded data removed]",
      "text/plain": [
       "<Figure size 640x480 with 1 Axes>"
      ]
     },
     "metadata": {},
     "output_type": "display_data"
    }
   ],
   "source": [
    "import boto3\n",
    "import duckdb\n",
    "import matplotlib.pyplot as plt\n",
    "import seaborn as sns \n",
    "\n",
    "# get information about the table\n",
    "s3_tables_client = boto3.client('s3tables')\n",
    "tbs = s3_tables_client.list_table_buckets(prefix=table_name)\n",
    "tb = tbs['tableBuckets'][0]\n",
    "\n",
    "s3_tables_arn = tb['arn']\n",
    "\n",
    "table_bucket = s3_tables_client.get_table(tableBucketARN=s3_tables_arn, namespace=namespace, name=table_name)\n",
    "metadata_location = table_bucket['metadataLocation']\n",
    "aws_region = s3_tables_arn.split(':')[3]\n",
    "\n",
    "con = duckdb.connect(database=':memory:', read_only=False)\n",
    "\n",
    "# install plugins, load, then setup aws credentials information\n",
    "setup_sql = f\"\"\"\n",
    "INSTALL iceberg;\n",
    "INSTALL aws;\n",
    "INSTALL httpfs;\n",
    "\n",
    "LOAD iceberg;\n",
    "LOAD aws;\n",
    "LOAD httpfs;\n",
    "\n",
    "CREATE SECRET (\n",
    "    TYPE s3,\n",
    "    PROVIDER credential_chain,\n",
    "    ENDPOINT 's3.{aws_region}.amazonaws.com'\n",
    ");\n",
    "\"\"\"\n",
    "con.execute(setup_sql)\n",
    "\n",
    "# fetch data from S3 Tables\n",
    "s3tables_df = con.execute(f\"SELECT * FROM iceberg_scan('{metadata_location}');\").fetchdf()\n",
    "# display(s3tables_df.head(5))\n",
    "\n",
    "# run a query against the data\n",
    "aggregation_df = s3tables_df.groupby('materialtype').agg(\n",
    "    total_records=('materialtype', 'count'),\n",
    "    total_checkouts=('checkouts', 'sum')\n",
    ").sort_values('total_checkouts', ascending=False).reset_index().nlargest(5, \"total_checkouts\")\n",
    "\n",
    "plt.pie(aggregation_df['total_checkouts'], \n",
    "        labels=aggregation_df['materialtype'],\n",
    "        autopct='%1.1f%%',\n",
    "        colors=sns.color_palette('pastel'),\n",
    "        explode=[0.05] * 5\n",
    "       )\n",
    "plt.axis('equal')\n",
    "plt.title('Distribution of Checkouts by Media Type', pad=20, size=14)\n",
    "plt.show()\n"
   ]
  },
  {
   "cell_type": "markdown",
   "id": "d061f87b-9b14-40f4-8079-5e4d479c9e1b",
   "metadata": {},
   "source": [
    "# S3 Tables Maintenance\n",
    "\n",
    "Let's look at S3 Tables optimizations tasks. S3 Tables' continual table optimization automatically scans and rewrites table data in the background."
   ]
  },
  {
   "cell_type": "code",
   "execution_count": 15,
   "id": "e81e6dcb-b561-4886-986c-669d4a577c89",
   "metadata": {},
   "outputs": [],
   "source": [
    "# split dataframe, then append to the table\n",
    "dfs = library_checkout.randomSplit([1.0] * 10)\n",
    "for df in dfs:\n",
    "    df.writeTo(full_table_name).using(\"Iceberg\").append()\n"
   ]
  },
  {
   "cell_type": "code",
   "execution_count": 30,
   "id": "2a4e36d4-6a81-49c3-9e77-104fc088b3ae",
   "metadata": {},
   "outputs": [
    {
     "data": {
      "text/plain": [
       "<Axes: xlabel='category', ylabel='Number of entities'>"
      ]
     },
     "metadata": {},
     "output_type": "display_data"
    },
    {
     "data": {
      "image/png": "[encoded data removed]",
      "text/plain": [
       "<Figure size 640x480 with 1 Axes>"
      ]
     },
     "metadata": {},
     "output_type": "display_data"
    }
   ],
   "source": [
    "import seaborn as sns\n",
    "import matplotlib.pyplot as plt\n",
    "import pandas as pd\n",
    "\n",
    "fdf = spark.sql(\"SELECT * FROM s3tablesbucket.demo.demo.files\")\n",
    "sdf = spark.sql(\"SELECT * FROM s3tablesbucket.demo.demo.snapshots\")\n",
    "df = pd.DataFrame({'category': ['Files', 'Snapshots'], 'Count': [fdf.count(), sdf.count()]})\n",
    "display(sns.barplot(data=df, x='category', y='Count', palette='pastel', hue='category'))\n"
   ]
  },
  {
   "cell_type": "markdown",
   "id": "657f1661-dfe1-46fa-93f2-acbf12a927da",
   "metadata": {},
   "source": [
    "## Automatic maintenance\n",
    "\n",
    "Once S3 Tables maintenance tasks run, we observe reduced number of files due to compaction.\n",
    "\n",
    "You can get the status and configurations of maintenance tasks by running the following command:\n",
    "\n",
    "```bash\n",
    "aws s3tables get-table-maintenance-job-status --table-bucket-arn arn:aws:s3tables:us-west-2:ACC:bucket/demo --namespace demo --name demo\n",
    "```\n",
    "\n",
    "Example output:\n",
    "\n",
    "```json\n",
    "{\n",
    "    \"tableARN\": \"arn:aws:s3tables:us-west-2:ACC:bucket/demo/table/415f4796-36de\",\n",
    "    \"status\": {\n",
    "        \"icebergCompaction\": {\n",
    "            \"status\": \"Successful\",\n",
    "            \"lastRunTimestamp\": \"2025-03-03T07:26:40.624000+00:00\"\n",
    "        },\n",
    "        \"icebergUnreferencedFileRemoval\": {\n",
    "            \"status\": \"Successful\",\n",
    "            \"lastRunTimestamp\": \"2025-03-02T19:27:13.823000+00:00\"\n",
    "        },\n",
    "        \"icebergSnapshotManagement\": {\n",
    "            \"status\": \"Successful\",\n",
    "            \"lastRunTimestamp\": \"2025-03-02T19:32:26.288000+00:00\"\n",
    "        }\n",
    "    }\n",
    "}\n",
    "```"
   ]
  },
  {
   "cell_type": "code",
   "execution_count": 2,
   "id": "799b3168-ca0a-4146-9727-5364b784e98b",
   "metadata": {},
   "outputs": [
    {
     "name": "stdout",
     "output_type": "stream",
     "text": [
      "[2025-03-03 18:07:31,613] INFO @ line 161: NumExpr defaulting to 16 threads.\n"
     ]
    },
    {
     "data": {
      "text/plain": [
       "<Axes: xlabel='category', ylabel='Count'>"
      ]
     },
     "metadata": {},
     "output_type": "display_data"
    },
    {
     "data": {
      "image/png": "[encoded data removed]",
      "text/plain": [
       "<Figure size 640x480 with 1 Axes>"
      ]
     },
     "metadata": {},
     "output_type": "display_data"
    }
   ],
   "source": [
    "import seaborn as sns\n",
    "import matplotlib.pyplot as plt\n",
    "import pandas as pd\n",
    "\n",
    "fdf = spark.sql(\"SELECT * FROM s3tablesbucket.demo.demo.files\")\n",
    "sdf = spark.sql(\"SELECT * FROM s3tablesbucket.demo.demo.snapshots\")\n",
    "df = pd.DataFrame({'category': ['Files', 'Snapshots'], 'Count': [fdf.count(), sdf.count()]})\n",
    "display(sns.barplot(data=df, x='category', y='Count', palette='pastel', hue='category'))\n"
   ]
  }
 ],
 "metadata": {
  "kernelspec": {
   "display_name": "Python 3 (ipykernel)",
   "language": "python",
   "name": "python3"
  },
  "language_info": {
   "codemirror_mode": {
    "name": "ipython",
    "version": 3
   },
   "file_extension": ".py",
   "mimetype": "text/x-python",
   "name": "python",
   "nbconvert_exporter": "python",
   "pygments_lexer": "ipython3",
   "version": "3.11.10"
  }
 },
 "nbformat": 4,
 "nbformat_minor": 5
}
